{
  "nbformat": 4,
  "nbformat_minor": 0,
  "metadata": {
    "colab": {
      "provenance": [],
      "authorship_tag": "ABX9TyMsqhSmXu7ARKYpM5QnJzAG"
    },
    "kernelspec": {
      "name": "python3",
      "display_name": "Python 3"
    },
    "language_info": {
      "name": "python"
    }
  },
  "cells": [
    {
      "cell_type": "code",
      "source": [
        "!pip install keras --upgrade"
      ],
      "metadata": {
        "colab": {
          "base_uri": "https://localhost:8080/"
        },
        "id": "ZPaRCg0GSfQj",
        "outputId": "44651d13-ca45-4f8d-91ac-5495429f94ca"
      },
      "execution_count": 20,
      "outputs": [
        {
          "output_type": "stream",
          "name": "stdout",
          "text": [
            "Looking in indexes: https://pypi.org/simple, https://us-python.pkg.dev/colab-wheels/public/simple/\n",
            "Requirement already satisfied: keras in /usr/local/lib/python3.9/dist-packages (2.11.0)\n",
            "Collecting keras\n",
            "  Downloading keras-2.12.0-py2.py3-none-any.whl (1.7 MB)\n",
            "\u001b[2K     \u001b[90m━━━━━━━━━━━━━━━━━━━━━━━━━━━━━━━━━━━━━━━━\u001b[0m \u001b[32m1.7/1.7 MB\u001b[0m \u001b[31m19.1 MB/s\u001b[0m eta \u001b[36m0:00:00\u001b[0m\n",
            "\u001b[?25hInstalling collected packages: keras\n",
            "  Attempting uninstall: keras\n",
            "    Found existing installation: keras 2.11.0\n",
            "    Uninstalling keras-2.11.0:\n",
            "      Successfully uninstalled keras-2.11.0\n",
            "\u001b[31mERROR: pip's dependency resolver does not currently take into account all the packages that are installed. This behaviour is the source of the following dependency conflicts.\n",
            "tensorflow 2.11.0 requires keras<2.12,>=2.11.0, but you have keras 2.12.0 which is incompatible.\u001b[0m\u001b[31m\n",
            "\u001b[0mSuccessfully installed keras-2.12.0\n"
          ]
        }
      ]
    },
    {
      "cell_type": "code",
      "execution_count": 55,
      "metadata": {
        "id": "QHSGxW_WNCOr"
      },
      "outputs": [],
      "source": [
        "import pandas as pd\n",
        "import numpy as np\n",
        "from tqdm import tqdm\n",
        "from keras.preprocessing.text import Tokenizer\n",
        "tqdm.pandas(desc=\"progress-bar\")\n",
        "from gensim.models import Doc2Vec\n",
        "from sklearn import utils\n",
        "from sklearn.model_selection import train_test_split\n",
        "from keras.preprocessing import sequence\n",
        "import gensim\n",
        "from sklearn.linear_model import LogisticRegression\n",
        "from gensim.models.doc2vec import TaggedDocument\n",
        "import re\n",
        "import seaborn as sns\n",
        "import matplotlib.pyplot as plt\n",
        "import tensorflow as tf"
      ]
    },
    {
      "cell_type": "code",
      "source": [
        "df = pd.read_csv('SPAM text message 20170820 - Data.csv',delimiter=',',encoding='latin-1')\n",
        "df = df[['Category','Message']]\n",
        "df = df[pd.notnull(df['Message'])]\n",
        "df.rename(columns = {'Message':'Message'}, inplace = True)\n",
        "df.head()"
      ],
      "metadata": {
        "colab": {
          "base_uri": "https://localhost:8080/",
          "height": 206
        },
        "id": "rjI-c7kKNHC1",
        "outputId": "fcbfbe43-3ae1-4815-98f2-5beb144eff23"
      },
      "execution_count": 3,
      "outputs": [
        {
          "output_type": "execute_result",
          "data": {
            "text/plain": [
              "  Category                                            Message\n",
              "0      ham  Go until jurong point, crazy.. Available only ...\n",
              "1      ham                      Ok lar... Joking wif u oni...\n",
              "2     spam  Free entry in 2 a wkly comp to win FA Cup fina...\n",
              "3      ham  U dun say so early hor... U c already then say...\n",
              "4      ham  Nah I don't think he goes to usf, he lives aro..."
            ],
            "text/html": [
              "\n",
              "  <div id=\"df-ce1e3165-441e-496d-899a-8718812d16ba\">\n",
              "    <div class=\"colab-df-container\">\n",
              "      <div>\n",
              "<style scoped>\n",
              "    .dataframe tbody tr th:only-of-type {\n",
              "        vertical-align: middle;\n",
              "    }\n",
              "\n",
              "    .dataframe tbody tr th {\n",
              "        vertical-align: top;\n",
              "    }\n",
              "\n",
              "    .dataframe thead th {\n",
              "        text-align: right;\n",
              "    }\n",
              "</style>\n",
              "<table border=\"1\" class=\"dataframe\">\n",
              "  <thead>\n",
              "    <tr style=\"text-align: right;\">\n",
              "      <th></th>\n",
              "      <th>Category</th>\n",
              "      <th>Message</th>\n",
              "    </tr>\n",
              "  </thead>\n",
              "  <tbody>\n",
              "    <tr>\n",
              "      <th>0</th>\n",
              "      <td>ham</td>\n",
              "      <td>Go until jurong point, crazy.. Available only ...</td>\n",
              "    </tr>\n",
              "    <tr>\n",
              "      <th>1</th>\n",
              "      <td>ham</td>\n",
              "      <td>Ok lar... Joking wif u oni...</td>\n",
              "    </tr>\n",
              "    <tr>\n",
              "      <th>2</th>\n",
              "      <td>spam</td>\n",
              "      <td>Free entry in 2 a wkly comp to win FA Cup fina...</td>\n",
              "    </tr>\n",
              "    <tr>\n",
              "      <th>3</th>\n",
              "      <td>ham</td>\n",
              "      <td>U dun say so early hor... U c already then say...</td>\n",
              "    </tr>\n",
              "    <tr>\n",
              "      <th>4</th>\n",
              "      <td>ham</td>\n",
              "      <td>Nah I don't think he goes to usf, he lives aro...</td>\n",
              "    </tr>\n",
              "  </tbody>\n",
              "</table>\n",
              "</div>\n",
              "      <button class=\"colab-df-convert\" onclick=\"convertToInteractive('df-ce1e3165-441e-496d-899a-8718812d16ba')\"\n",
              "              title=\"Convert this dataframe to an interactive table.\"\n",
              "              style=\"display:none;\">\n",
              "        \n",
              "  <svg xmlns=\"http://www.w3.org/2000/svg\" height=\"24px\"viewBox=\"0 0 24 24\"\n",
              "       width=\"24px\">\n",
              "    <path d=\"M0 0h24v24H0V0z\" fill=\"none\"/>\n",
              "    <path d=\"M18.56 5.44l.94 2.06.94-2.06 2.06-.94-2.06-.94-.94-2.06-.94 2.06-2.06.94zm-11 1L8.5 8.5l.94-2.06 2.06-.94-2.06-.94L8.5 2.5l-.94 2.06-2.06.94zm10 10l.94 2.06.94-2.06 2.06-.94-2.06-.94-.94-2.06-.94 2.06-2.06.94z\"/><path d=\"M17.41 7.96l-1.37-1.37c-.4-.4-.92-.59-1.43-.59-.52 0-1.04.2-1.43.59L10.3 9.45l-7.72 7.72c-.78.78-.78 2.05 0 2.83L4 21.41c.39.39.9.59 1.41.59.51 0 1.02-.2 1.41-.59l7.78-7.78 2.81-2.81c.8-.78.8-2.07 0-2.86zM5.41 20L4 18.59l7.72-7.72 1.47 1.35L5.41 20z\"/>\n",
              "  </svg>\n",
              "      </button>\n",
              "      \n",
              "  <style>\n",
              "    .colab-df-container {\n",
              "      display:flex;\n",
              "      flex-wrap:wrap;\n",
              "      gap: 12px;\n",
              "    }\n",
              "\n",
              "    .colab-df-convert {\n",
              "      background-color: #E8F0FE;\n",
              "      border: none;\n",
              "      border-radius: 50%;\n",
              "      cursor: pointer;\n",
              "      display: none;\n",
              "      fill: #1967D2;\n",
              "      height: 32px;\n",
              "      padding: 0 0 0 0;\n",
              "      width: 32px;\n",
              "    }\n",
              "\n",
              "    .colab-df-convert:hover {\n",
              "      background-color: #E2EBFA;\n",
              "      box-shadow: 0px 1px 2px rgba(60, 64, 67, 0.3), 0px 1px 3px 1px rgba(60, 64, 67, 0.15);\n",
              "      fill: #174EA6;\n",
              "    }\n",
              "\n",
              "    [theme=dark] .colab-df-convert {\n",
              "      background-color: #3B4455;\n",
              "      fill: #D2E3FC;\n",
              "    }\n",
              "\n",
              "    [theme=dark] .colab-df-convert:hover {\n",
              "      background-color: #434B5C;\n",
              "      box-shadow: 0px 1px 3px 1px rgba(0, 0, 0, 0.15);\n",
              "      filter: drop-shadow(0px 1px 2px rgba(0, 0, 0, 0.3));\n",
              "      fill: #FFFFFF;\n",
              "    }\n",
              "  </style>\n",
              "\n",
              "      <script>\n",
              "        const buttonEl =\n",
              "          document.querySelector('#df-ce1e3165-441e-496d-899a-8718812d16ba button.colab-df-convert');\n",
              "        buttonEl.style.display =\n",
              "          google.colab.kernel.accessAllowed ? 'block' : 'none';\n",
              "\n",
              "        async function convertToInteractive(key) {\n",
              "          const element = document.querySelector('#df-ce1e3165-441e-496d-899a-8718812d16ba');\n",
              "          const dataTable =\n",
              "            await google.colab.kernel.invokeFunction('convertToInteractive',\n",
              "                                                     [key], {});\n",
              "          if (!dataTable) return;\n",
              "\n",
              "          const docLinkHtml = 'Like what you see? Visit the ' +\n",
              "            '<a target=\"_blank\" href=https://colab.research.google.com/notebooks/data_table.ipynb>data table notebook</a>'\n",
              "            + ' to learn more about interactive tables.';\n",
              "          element.innerHTML = '';\n",
              "          dataTable['output_type'] = 'display_data';\n",
              "          await google.colab.output.renderOutput(dataTable, element);\n",
              "          const docLink = document.createElement('div');\n",
              "          docLink.innerHTML = docLinkHtml;\n",
              "          element.appendChild(docLink);\n",
              "        }\n",
              "      </script>\n",
              "    </div>\n",
              "  </div>\n",
              "  "
            ]
          },
          "metadata": {},
          "execution_count": 3
        }
      ]
    },
    {
      "cell_type": "code",
      "source": [
        "df.shape"
      ],
      "metadata": {
        "colab": {
          "base_uri": "https://localhost:8080/"
        },
        "id": "ql2ngYQpNvd_",
        "outputId": "9ffc4009-e3d5-4a02-a13f-58d981650a3f"
      },
      "execution_count": 4,
      "outputs": [
        {
          "output_type": "execute_result",
          "data": {
            "text/plain": [
              "(5572, 2)"
            ]
          },
          "metadata": {},
          "execution_count": 4
        }
      ]
    },
    {
      "cell_type": "code",
      "source": [
        "df.index = range(5572)\n",
        "df['Message'].apply(lambda x: len(x.split(' '))).sum()"
      ],
      "metadata": {
        "colab": {
          "base_uri": "https://localhost:8080/"
        },
        "id": "vpuQbLOgN1id",
        "outputId": "df4e3fad-9601-492e-f3f4-da24299c8c33"
      },
      "execution_count": 5,
      "outputs": [
        {
          "output_type": "execute_result",
          "data": {
            "text/plain": [
              "87265"
            ]
          },
          "metadata": {},
          "execution_count": 5
        }
      ]
    },
    {
      "cell_type": "code",
      "source": [
        "cnt_pro = df['Category'].value_counts()\n",
        "plt.figure(figsize=(12,4))\n",
        "sns.barplot(x=cnt_pro.index,y=cnt_pro.values, alpha=0.8)\n",
        "plt.ylabel('Number of Occurrences', fontsize=12)\n",
        "plt.xlabel('Category', fontsize=12)\n",
        "plt.xticks(rotation=90)\n",
        "plt.show();"
      ],
      "metadata": {
        "colab": {
          "base_uri": "https://localhost:8080/",
          "height": 301
        },
        "id": "Y6xOlQ-WOB8o",
        "outputId": "1e903aea-b63c-462d-c426-202db4028be5"
      },
      "execution_count": 7,
      "outputs": [
        {
          "output_type": "display_data",
          "data": {
            "text/plain": [
              "<Figure size 864x288 with 1 Axes>"
            ],
            "image/png": "[encoded data removed]"
          },
          "metadata": {
            "needs_background": "light"
          }
        }
      ]
    },
    {
      "cell_type": "code",
      "source": [
        "def print_message(index):\n",
        "    example = df[df.index == index][['Message', 'Category']].values[0]\n",
        "    if len(example) > 0:\n",
        "        print(example[0])\n",
        "        print('Message:', example[1])\n",
        "print_message(12)"
      ],
      "metadata": {
        "colab": {
          "base_uri": "https://localhost:8080/"
        },
        "id": "HsPQUsBTOFjU",
        "outputId": "fac272b1-61cd-4a35-f12a-eca7cb11ee5c"
      },
      "execution_count": 8,
      "outputs": [
        {
          "output_type": "stream",
          "name": "stdout",
          "text": [
            "URGENT! You have won a 1 week FREE membership in our Â£100,000 Prize Jackpot! Txt the word: CLAIM to No: 81010 T&C www.dbuk.net LCCLTD POBOX 4403LDNW1A7RW18\n",
            "Message: spam\n"
          ]
        }
      ]
    },
    {
      "cell_type": "code",
      "source": [
        "print_message(0)"
      ],
      "metadata": {
        "colab": {
          "base_uri": "https://localhost:8080/"
        },
        "id": "bQGxefQiPKjU",
        "outputId": "bfbfab1d-08e6-4da7-9a37-bf17d4051b46"
      },
      "execution_count": 9,
      "outputs": [
        {
          "output_type": "stream",
          "name": "stdout",
          "text": [
            "Go until jurong point, crazy.. Available only in bugis n great world la e buffet... Cine there got amore wat...\n",
            "Message: ham\n"
          ]
        }
      ]
    },
    {
      "cell_type": "markdown",
      "source": [
        "Preprocessing of Text The function to lowercase text, remove punctuation and symbols from words, and more is defined below.\n"
      ],
      "metadata": {
        "id": "T1n_Cj7lPl97"
      }
    },
    {
      "cell_type": "code",
      "source": [
        "from bs4 import BeautifulSoup\n",
        "def cleanText(text):\n",
        "    text = BeautifulSoup(text, \"lxml\").text\n",
        "    text = re.sub(r'\\|\\|\\|', r' ', text) \n",
        "    text = re.sub(r'http\\S+', r'<URL>', text)\n",
        "    text = text.lower()\n",
        "    text = text.replace('x', '')\n",
        "    return text\n",
        "df['Message'] = df['Message'].apply(cleanText)"
      ],
      "metadata": {
        "colab": {
          "base_uri": "https://localhost:8080/"
        },
        "id": "OVDWapIRPSHT",
        "outputId": "f28d2f6d-1070-406e-b343-22dfc11eea60"
      },
      "execution_count": 10,
      "outputs": [
        {
          "output_type": "stream",
          "name": "stderr",
          "text": [
            "<ipython-input-10-aaa97489b476>:3: MarkupResemblesLocatorWarning: The input looks more like a filename than markup. You may want to open this file and pass the filehandle into Beautiful Soup.\n",
            "  text = BeautifulSoup(text, \"lxml\").text\n"
          ]
        }
      ]
    },
    {
      "cell_type": "code",
      "source": [
        "import nltk\n",
        "\n",
        "nltk.download('punkt')"
      ],
      "metadata": {
        "colab": {
          "base_uri": "https://localhost:8080/"
        },
        "id": "fWCAX4-VRMOP",
        "outputId": "1d525282-fdc1-4f6e-f9ed-6bedb8611047"
      },
      "execution_count": 13,
      "outputs": [
        {
          "output_type": "stream",
          "name": "stderr",
          "text": [
            "[nltk_data] Downloading package punkt to /root/nltk_data...\n",
            "[nltk_data]   Unzipping tokenizers/punkt.zip.\n"
          ]
        },
        {
          "output_type": "execute_result",
          "data": {
            "text/plain": [
              "True"
            ]
          },
          "metadata": {},
          "execution_count": 13
        }
      ]
    },
    {
      "cell_type": "code",
      "source": [
        "from keras.utils import pad_sequences\n"
      ],
      "metadata": {
        "id": "IFEv_fsyS2v6"
      },
      "execution_count": 25,
      "outputs": []
    },
    {
      "cell_type": "code",
      "source": [
        "df['Message'] = df['Message'].apply(cleanText)\n",
        "train,test = train_test_split(df, test_size=0.000001, random_state=42)\n",
        "import nltk\n",
        "from nltk.corpus import stopwords\n",
        "def tokenize_text(text):\n",
        "    tokens = []\n",
        "    for sent in nltk.sent_tokenize(text):\n",
        "        for word in nltk.word_tokenize(sent):\n",
        "            #if len(word) < 0:\n",
        "            if len(word) <= 0:\n",
        "                continue\n",
        "            tokens.append(word.lower())\n",
        "    return tokens\n",
        "train_tagged = train.apply(\n",
        "    lambda r: TaggedDocument(words=tokenize_text(r['Message']), tags=[r.Category]), axis=1)\n",
        "test_tagged = test.apply(\n",
        "    lambda r: TaggedDocument(words=tokenize_text(r['Message']), tags=[r.Category]), axis=1)\n",
        "\n",
        "# The maximum number of words to be used. (most frequent)\n",
        "max_fatures = 500000\n",
        "\n",
        "# Max number of words in each complaint.\n",
        "MAX_SEQUENCE_LENGTH = 50\n",
        "\n",
        "#tokenizer = Tokenizer(num_words=max_fatures, split=' ')\n",
        "tokenizer = Tokenizer(num_words=max_fatures, split=' ', filters='!\"#$%&()*+,-./:;<=>?@[\\]^_`{|}~', lower=True)\n",
        "tokenizer.fit_on_texts(df['Message'].values)\n",
        "X = tokenizer.texts_to_sequences(df['Message'].values)\n",
        "X = pad_sequences(X)\n",
        "print('Found %s unique tokens.' % len(X))"
      ],
      "metadata": {
        "colab": {
          "base_uri": "https://localhost:8080/"
        },
        "id": "MaFQajOOPzfs",
        "outputId": "999775ea-1bd9-46ed-f751-ef234e2c4df6"
      },
      "execution_count": 26,
      "outputs": [
        {
          "output_type": "stream",
          "name": "stderr",
          "text": [
            "<ipython-input-10-aaa97489b476>:3: MarkupResemblesLocatorWarning: The input looks more like a filename than markup. You may want to open this file and pass the filehandle into Beautiful Soup.\n",
            "  text = BeautifulSoup(text, \"lxml\").text\n"
          ]
        },
        {
          "output_type": "stream",
          "name": "stdout",
          "text": [
            "Found 5572 unique tokens.\n"
          ]
        }
      ]
    },
    {
      "cell_type": "code",
      "source": [
        "X = tokenizer.texts_to_sequences(df['Message'].values)\n",
        "X = pad_sequences(X, maxlen=MAX_SEQUENCE_LENGTH)\n",
        "print('Shape of data tensor:', X.shape)"
      ],
      "metadata": {
        "colab": {
          "base_uri": "https://localhost:8080/"
        },
        "id": "ORPsKV3CQPgu",
        "outputId": "2d25edd0-9903-4432-a597-c229ca8129a2"
      },
      "execution_count": 27,
      "outputs": [
        {
          "output_type": "stream",
          "name": "stdout",
          "text": [
            "Shape of data tensor: (5572, 50)\n"
          ]
        }
      ]
    },
    {
      "cell_type": "code",
      "source": [
        "train_tagged.values"
      ],
      "metadata": {
        "colab": {
          "base_uri": "https://localhost:8080/"
        },
        "id": "qGPks4RaTb0y",
        "outputId": "f261d0e3-8c01-4909-cd6f-63ce99474d95"
      },
      "execution_count": 28,
      "outputs": [
        {
          "output_type": "execute_result",
          "data": {
            "text/plain": [
              "array([TaggedDocument(words=['and', 'also', 'i', \"'ve\", 'sorta', 'blown', 'him', 'off', 'a', 'couple', 'times', 'recently', 'so', 'id', 'rather', 'not', 'tet', 'him', 'out', 'of', 'the', 'blue', 'looking', 'for', 'weed'], tags=['ham']),\n",
              "       TaggedDocument(words=['mmm', 'thats', 'better', 'now', 'i', 'got', 'a', 'roast', 'down', 'me', '!', 'iâ\\x92d', 'b', 'better', 'if', 'i', 'had', 'a', 'few', 'drinks', 'down', 'me', '2', '!', 'good', 'indian', '?'], tags=['ham']),\n",
              "       TaggedDocument(words=['mm', 'have', 'some', 'kanji', 'dont', 'eat', 'anything', 'heavy', 'ok'], tags=['ham']),\n",
              "       ...,\n",
              "       TaggedDocument(words=['prabha', '..', 'i', \"'m\", 'soryda', '..', 'realy', '..', 'frm', 'heart', 'i', \"'m\", 'sory'], tags=['ham']),\n",
              "       TaggedDocument(words=['nt', 'joking', 'seriously', 'i', 'told'], tags=['ham']),\n",
              "       TaggedDocument(words=['did', 'he', 'just', 'say', 'somebody', 'is', 'named', 'tampa'], tags=['ham'])],\n",
              "      dtype=object)"
            ]
          },
          "metadata": {},
          "execution_count": 28
        }
      ]
    },
    {
      "cell_type": "code",
      "source": [
        "d2v_model = Doc2Vec(dm=1, dm_mean=1, vector_size=20, window=8, min_count=1, workers=1, alpha=0.065, min_alpha=0.065)\n",
        "d2v_model.build_vocab([x for x in tqdm(train_tagged.values)])"
      ],
      "metadata": {
        "colab": {
          "base_uri": "https://localhost:8080/"
        },
        "id": "CAYK7KPZTgMA",
        "outputId": "eed84bf2-08f6-45ce-f130-8c0501c8ffa5"
      },
      "execution_count": 44,
      "outputs": [
        {
          "output_type": "stream",
          "name": "stderr",
          "text": [
            "100%|██████████| 5571/5571 [00:00<00:00, 1031586.58it/s]\n"
          ]
        }
      ]
    },
    {
      "cell_type": "code",
      "source": [
        "%%time\n",
        "for epoch in range(30):\n",
        "    d2v_model.train(utils.shuffle([x for x in tqdm(train_tagged.values)]), total_examples=len(train_tagged.values), epochs=1)\n",
        "    d2v_model.alpha -= 0.002\n",
        "    d2v_model.min_alpha = d2v_model.alpha"
      ],
      "metadata": {
        "colab": {
          "base_uri": "https://localhost:8080/"
        },
        "id": "0yqNkFoVTkeB",
        "outputId": "18d3a0de-e6c6-447b-e99e-26a60b503164"
      },
      "execution_count": 32,
      "outputs": [
        {
          "output_type": "stream",
          "name": "stderr",
          "text": [
            "100%|██████████| 5571/5571 [00:00<00:00, 1592263.55it/s]\n",
            "100%|██████████| 5571/5571 [00:00<00:00, 686824.83it/s]\n",
            "100%|██████████| 5571/5571 [00:00<00:00, 859756.70it/s]\n",
            "100%|██████████| 5571/5571 [00:00<00:00, 1217130.30it/s]\n",
            "100%|██████████| 5571/5571 [00:00<00:00, 2706018.25it/s]\n",
            "100%|██████████| 5571/5571 [00:00<00:00, 1410848.18it/s]\n",
            "100%|██████████| 5571/5571 [00:00<00:00, 1186054.90it/s]\n",
            "100%|██████████| 5571/5571 [00:00<00:00, 758553.03it/s]\n",
            "100%|██████████| 5571/5571 [00:00<00:00, 1299870.25it/s]\n",
            "100%|██████████| 5571/5571 [00:00<00:00, 1212960.32it/s]\n",
            "100%|██████████| 5571/5571 [00:00<00:00, 842459.89it/s]\n",
            "100%|██████████| 5571/5571 [00:00<00:00, 1191862.67it/s]\n",
            "100%|██████████| 5571/5571 [00:00<00:00, 1209507.10it/s]\n",
            "100%|██████████| 5571/5571 [00:00<00:00, 1477300.85it/s]\n",
            "100%|██████████| 5571/5571 [00:00<00:00, 1339282.83it/s]\n",
            "100%|██████████| 5571/5571 [00:00<00:00, 1261415.87it/s]\n",
            "100%|██████████| 5571/5571 [00:00<00:00, 1161701.68it/s]\n",
            "100%|██████████| 5571/5571 [00:00<00:00, 913716.33it/s]\n",
            "100%|██████████| 5571/5571 [00:00<00:00, 1160029.17it/s]\n",
            "100%|██████████| 5571/5571 [00:00<00:00, 1385254.18it/s]\n",
            "100%|██████████| 5571/5571 [00:00<00:00, 1275531.83it/s]\n",
            "100%|██████████| 5571/5571 [00:00<00:00, 1351600.39it/s]\n",
            "100%|██████████| 5571/5571 [00:00<00:00, 1313830.06it/s]\n",
            "100%|██████████| 5571/5571 [00:00<00:00, 1534541.77it/s]\n",
            "100%|██████████| 5571/5571 [00:00<00:00, 1682251.09it/s]\n",
            "100%|██████████| 5571/5571 [00:00<00:00, 1337443.05it/s]\n",
            "100%|██████████| 5571/5571 [00:00<00:00, 984971.02it/s]\n",
            "100%|██████████| 5571/5571 [00:00<00:00, 1378227.41it/s]\n",
            "100%|██████████| 5571/5571 [00:00<00:00, 1328546.03it/s]\n",
            "100%|██████████| 5571/5571 [00:00<00:00, 1394263.83it/s]\n"
          ]
        },
        {
          "output_type": "stream",
          "name": "stdout",
          "text": [
            "CPU times: user 13.3 s, sys: 69.4 ms, total: 13.3 s\n",
            "Wall time: 14.7 s\n"
          ]
        }
      ]
    },
    {
      "cell_type": "code",
      "source": [
        "print(d2v_model)"
      ],
      "metadata": {
        "colab": {
          "base_uri": "https://localhost:8080/"
        },
        "id": "BlS9VadLUNSs",
        "outputId": "7b557655-6d95-450c-eddd-b78c68bfd50c"
      },
      "execution_count": 33,
      "outputs": [
        {
          "output_type": "stream",
          "name": "stdout",
          "text": [
            "Doc2Vec<dm/m,d20,n5,w8,s0.001>\n"
          ]
        }
      ]
    },
    {
      "cell_type": "code",
      "source": [
        "len(d2v_model.wv.key_to_index)"
      ],
      "metadata": {
        "colab": {
          "base_uri": "https://localhost:8080/"
        },
        "id": "RN74k6a7Xehv",
        "outputId": "749636c8-25b2-4f41-c4a2-de7622901af2"
      },
      "execution_count": 46,
      "outputs": [
        {
          "output_type": "execute_result",
          "data": {
            "text/plain": [
              "9361"
            ]
          },
          "metadata": {},
          "execution_count": 46
        }
      ]
    },
    {
      "cell_type": "code",
      "source": [
        "embedding_matrix = np.zeros((len(d2v_model.wv.key_to_index)+ 1, 20))\n",
        "\n",
        "for i, vec in enumerate(d2v_model.dv.vectors):\n",
        "    while i in vec <= 1000:\n",
        "    #print(i)\n",
        "    #print(model.docvecs)\n",
        "          embedding_matrix[i]=vec\n",
        "    #print(vec)\n",
        "    #print(vec[i])"
      ],
      "metadata": {
        "id": "tsGgSJXlUXso"
      },
      "execution_count": 49,
      "outputs": []
    },
    {
      "cell_type": "markdown",
      "source": [
        "Measuring distance between two vectors (related to cosine similarity)"
      ],
      "metadata": {
        "id": "QqBIOVSgYTxO"
      }
    },
    {
      "cell_type": "code",
      "source": [
        "d2v_model.wv.most_similar(positive=['urgent'], topn=10)"
      ],
      "metadata": {
        "colab": {
          "base_uri": "https://localhost:8080/"
        },
        "id": "PC3tpPoYXpWp",
        "outputId": "d355b4a9-fd77-4720-faa5-37c05593a6c8"
      },
      "execution_count": 50,
      "outputs": [
        {
          "output_type": "execute_result",
          "data": {
            "text/plain": [
              "[('dictionary', 0.7548812627792358),\n",
              " ('gv', 0.7385099530220032),\n",
              " ('09090900040', 0.737850546836853),\n",
              " ('end', 0.7174364924430847),\n",
              " ('s3y', 0.697420060634613),\n",
              " ('praying.will', 0.6842852830886841),\n",
              " ('geoenvironmental', 0.6712071895599365),\n",
              " ('fortune', 0.6684834957122803),\n",
              " ('close', 0.6667903065681458),\n",
              " ('spjanuary', 0.6650495529174805)]"
            ]
          },
          "metadata": {},
          "execution_count": 50
        }
      ]
    },
    {
      "cell_type": "code",
      "source": [
        "d2v_model.wv.most_similar(positive=['cherish'], topn=10)"
      ],
      "metadata": {
        "colab": {
          "base_uri": "https://localhost:8080/"
        },
        "id": "cFHgoXj1YlOk",
        "outputId": "0f81eaaa-dd55-4511-bc71-fa833b9e6c4e"
      },
      "execution_count": 51,
      "outputs": [
        {
          "output_type": "execute_result",
          "data": {
            "text/plain": [
              "[('plane', 0.8153259754180908),\n",
              " ('dl', 0.7004007697105408),\n",
              " ('sharing', 0.6975506544113159),\n",
              " ('passes', 0.6860136985778809),\n",
              " ('0721072', 0.6782993674278259),\n",
              " ('loahatchee', 0.6699919700622559),\n",
              " ('trauma', 0.6698644757270813),\n",
              " ('bend', 0.6638799905776978),\n",
              " ('cr', 0.6539549827575684),\n",
              " ('09061701851.', 0.6466493010520935)]"
            ]
          },
          "metadata": {},
          "execution_count": 51
        }
      ]
    },
    {
      "cell_type": "markdown",
      "source": [
        "Create the LSTM Model"
      ],
      "metadata": {
        "id": "CjVkCqfvYv3b"
      }
    },
    {
      "cell_type": "code",
      "source": [
        "from keras.models import Sequential\n",
        "from keras.layers import LSTM, Dense, Embedding\n",
        "model = Sequential()\n",
        "model.add(Embedding(len(d2v_model.wv.key_to_index)+1,20,input_length=X.shape[1],weights=[embedding_matrix],trainable=True))\n",
        "def split_input(sequence):\n",
        "     return sequence[:-1], tf.reshape(sequence[1:], (-1,1))\n",
        "model.add(LSTM(50,return_sequences=False))\n",
        "model.add(Dense(2,activation=\"softmax\"))\n",
        "model.summary()\n",
        "model.compile(optimizer=\"adam\",loss=\"binary_crossentropy\",metrics=['acc'])"
      ],
      "metadata": {
        "colab": {
          "base_uri": "https://localhost:8080/"
        },
        "id": "30scl200Yqjc",
        "outputId": "75f2ee8a-54d6-4c76-b6db-4025b70500d9"
      },
      "execution_count": 56,
      "outputs": [
        {
          "output_type": "stream",
          "name": "stdout",
          "text": [
            "Model: \"sequential_3\"\n",
            "_________________________________________________________________\n",
            " Layer (type)                Output Shape              Param #   \n",
            "=================================================================\n",
            " embedding_3 (Embedding)     (None, 50, 20)            187240    \n",
            "                                                                 \n",
            " lstm_3 (LSTM)               (None, 50)                14200     \n",
            "                                                                 \n",
            " dense_3 (Dense)             (None, 2)                 102       \n",
            "                                                                 \n",
            "=================================================================\n",
            "Total params: 201,542\n",
            "Trainable params: 201,542\n",
            "Non-trainable params: 0\n",
            "_________________________________________________________________\n"
          ]
        }
      ]
    },
    {
      "cell_type": "code",
      "source": [
        "from keras.models import Sequential\n",
        "from keras.layers import LSTM, Dense, Embedding,Dropout,Activation\n",
        "model1 = Sequential()\n",
        "model1.add(Embedding(len(d2v_model.wv.key_to_index)+1,20,input_length=X.shape[1],weights=[embedding_matrix],trainable=True))\n",
        "def split_input(sequence):\n",
        "     return sequence[:-1],tf.reshape(sequence[1:], (-1,1))\n",
        "model1.add(LSTM(50,return_sequences=False))\n",
        "model1.add(Dense(2,activation=\"softmax\"))\n",
        "model1.add(Activation('relu'))\n",
        "model1.add(Dense(256,name='FC1'))\n",
        "model1.add(Dropout(0.5))\n",
        "model1.summary()\n",
        "model1.compile(optimizer=\"adam\",loss=\"binary_crossentropy\",metrics=['acc'])"
      ],
      "metadata": {
        "colab": {
          "base_uri": "https://localhost:8080/"
        },
        "id": "GVDporLnZCDo",
        "outputId": "21089948-a408-45ec-9a95-a400aa974027"
      },
      "execution_count": 58,
      "outputs": [
        {
          "output_type": "stream",
          "name": "stdout",
          "text": [
            "Model: \"sequential_5\"\n",
            "_________________________________________________________________\n",
            " Layer (type)                Output Shape              Param #   \n",
            "=================================================================\n",
            " embedding_5 (Embedding)     (None, 50, 20)            187240    \n",
            "                                                                 \n",
            " lstm_5 (LSTM)               (None, 50)                14200     \n",
            "                                                                 \n",
            " dense_5 (Dense)             (None, 2)                 102       \n",
            "                                                                 \n",
            " activation_2 (Activation)   (None, 2)                 0         \n",
            "                                                                 \n",
            " FC1 (Dense)                 (None, 256)               768       \n",
            "                                                                 \n",
            " dropout_3 (Dropout)         (None, 256)               0         \n",
            "                                                                 \n",
            "=================================================================\n",
            "Total params: 202,310\n",
            "Trainable params: 202,310\n",
            "Non-trainable params: 0\n",
            "_________________________________________________________________\n"
          ]
        }
      ]
    },
    {
      "cell_type": "code",
      "source": [
        "from keras.utils import plot_model\n",
        "plot_model(model, to_file='model.png')"
      ],
      "metadata": {
        "colab": {
          "base_uri": "https://localhost:8080/",
          "height": 369
        },
        "id": "nQaNJVMUZnSv",
        "outputId": "b5bba352-e52a-4e70-dcd2-68cb60885f89"
      },
      "execution_count": 59,
      "outputs": [
        {
          "output_type": "execute_result",
          "data": {
            "image/png": "[encoded data removed]",
            "text/plain": [
              "<IPython.core.display.Image object>"
            ]
          },
          "metadata": {},
          "execution_count": 59
        }
      ]
    },
    {
      "cell_type": "code",
      "source": [
        "from keras.utils import plot_model\n",
        "plot_model(model1, to_file='model1.png')"
      ],
      "metadata": {
        "colab": {
          "base_uri": "https://localhost:8080/",
          "height": 661
        },
        "id": "vfoYygqHa2Zf",
        "outputId": "d32d42d2-bc7a-4db9-8155-5945a8611f9d"
      },
      "execution_count": 60,
      "outputs": [
        {
          "output_type": "execute_result",
          "data": {
            "image/png": "[encoded data removed]",
            "text/plain": [
              "<IPython.core.display.Image object>"
            ]
          },
          "metadata": {},
          "execution_count": 60
        }
      ]
    },
    {
      "cell_type": "code",
      "source": [
        "Y = pd.get_dummies(df['Category']).values\n",
        "X_train, X_test, Y_train, Y_test = train_test_split(X,Y, test_size = 0.15, random_state = 42)\n",
        "print(X_train.shape,Y_train.shape)\n",
        "print(X_test.shape,Y_test.shape)"
      ],
      "metadata": {
        "colab": {
          "base_uri": "https://localhost:8080/"
        },
        "id": "0tMFX21xa6Zc",
        "outputId": "6cbfce40-4d0a-47a4-989d-70e76b81923c"
      },
      "execution_count": 61,
      "outputs": [
        {
          "output_type": "stream",
          "name": "stdout",
          "text": [
            "(4736, 50) (4736, 2)\n",
            "(836, 50) (836, 2)\n"
          ]
        }
      ]
    },
    {
      "cell_type": "code",
      "source": [
        "import logging\n",
        "logging.getLogger('tensorflow').disabled = True"
      ],
      "metadata": {
        "id": "RAz1GmnObp1O"
      },
      "execution_count": 63,
      "outputs": []
    },
    {
      "cell_type": "code",
      "source": [
        "batch_size = 32\n",
        "history=model.fit(X_train, Y_train, epochs =10, batch_size=batch_size, verbose = 2)"
      ],
      "metadata": {
        "colab": {
          "base_uri": "https://localhost:8080/"
        },
        "id": "jhAOWWsfbA_k",
        "outputId": "c9c55b49-d3b8-4d64-8438-5f2230536ddc"
      },
      "execution_count": 64,
      "outputs": [
        {
          "output_type": "stream",
          "name": "stdout",
          "text": [
            "Epoch 1/10\n",
            "148/148 - 5s - loss: 0.0011 - acc: 0.9998 - 5s/epoch - 32ms/step\n",
            "Epoch 2/10\n",
            "148/148 - 3s - loss: 8.4984e-04 - acc: 1.0000 - 3s/epoch - 23ms/step\n",
            "Epoch 3/10\n",
            "148/148 - 3s - loss: 6.3511e-04 - acc: 1.0000 - 3s/epoch - 23ms/step\n",
            "Epoch 4/10\n",
            "148/148 - 3s - loss: 5.1093e-04 - acc: 1.0000 - 3s/epoch - 23ms/step\n",
            "Epoch 5/10\n",
            "148/148 - 5s - loss: 3.9178e-04 - acc: 1.0000 - 5s/epoch - 32ms/step\n",
            "Epoch 6/10\n",
            "148/148 - 3s - loss: 3.5708e-04 - acc: 1.0000 - 3s/epoch - 23ms/step\n",
            "Epoch 7/10\n",
            "148/148 - 3s - loss: 2.7803e-04 - acc: 1.0000 - 3s/epoch - 23ms/step\n",
            "Epoch 8/10\n",
            "148/148 - 4s - loss: 2.3615e-04 - acc: 1.0000 - 4s/epoch - 29ms/step\n",
            "Epoch 9/10\n",
            "148/148 - 4s - loss: 1.9751e-04 - acc: 1.0000 - 4s/epoch - 26ms/step\n",
            "Epoch 10/10\n",
            "148/148 - 3s - loss: 1.6545e-04 - acc: 1.0000 - 3s/epoch - 23ms/step\n"
          ]
        }
      ]
    },
    {
      "cell_type": "code",
      "source": [
        "plt.plot(history.history['acc'])\n",
        "plt.title('model accuracy')\n",
        "plt.ylabel('acc')\n",
        "plt.xlabel('epochs')\n",
        "plt.legend(['train', 'test'], loc='upper left')\n",
        "plt.show()\n",
        "plt.savefig('model_accuracy.png')\n",
        "# summarize history for loss\n",
        "plt.plot(history.history['loss'])\n",
        "#plt.plot(history.history['val_loss'])\n",
        "plt.title('model loss')\n",
        "plt.ylabel('loss')\n",
        "plt.xlabel('epochs')\n",
        "plt.legend(['train', 'test'], loc='upper left')\n",
        "plt.show()\n",
        "plt.savefig('model_loss.png')"
      ],
      "metadata": {
        "colab": {
          "base_uri": "https://localhost:8080/",
          "height": 590
        },
        "id": "a_NB9vSTbHK3",
        "outputId": "c8e2ae75-9b1e-476a-e6d2-b8cf45f5b7dd"
      },
      "execution_count": 65,
      "outputs": [
        {
          "output_type": "display_data",
          "data": {
            "text/plain": [
              "<Figure size 432x288 with 1 Axes>"
            ],
            "image/png": "[encoded data removed]"
          },
          "metadata": {
            "needs_background": "light"
          }
        },
        {
          "output_type": "display_data",
          "data": {
            "text/plain": [
              "<Figure size 432x288 with 1 Axes>"
            ],
            "image/png": "[encoded data removed]"
          },
          "metadata": {
            "needs_background": "light"
          }
        },
        {
          "output_type": "display_data",
          "data": {
            "text/plain": [
              "<Figure size 432x288 with 0 Axes>"
            ]
          },
          "metadata": {}
        }
      ]
    },
    {
      "cell_type": "code",
      "source": [
        "# evaluate the model\n",
        "train_loss, train_acc = model.evaluate(X_train, Y_train, verbose=2)\n",
        "test_loss, test_acc = model.evaluate(X_test, Y_test, verbose=2)\n",
        "print('Train accuracy:', train_acc)\n",
        "print('Test accuracy:', test_acc)"
      ],
      "metadata": {
        "colab": {
          "base_uri": "https://localhost:8080/"
        },
        "id": "2smPyy1IcREp",
        "outputId": "1c0f380d-56a6-4e9c-ad91-1a3a733dfb82"
      },
      "execution_count": 67,
      "outputs": [
        {
          "output_type": "stream",
          "name": "stdout",
          "text": [
            "148/148 - 1s - loss: 1.5123e-04 - acc: 1.0000 - 1s/epoch - 10ms/step\n",
            "27/27 - 0s - loss: 0.0607 - acc: 0.9928 - 265ms/epoch - 10ms/step\n",
            "Train accuracy: 1.0\n",
            "Test accuracy: 0.9928229451179504\n"
          ]
        }
      ]
    },
    {
      "cell_type": "code",
      "source": [
        "from keras.utils import to_categorical\n",
        "# predict probabilities for test set\n",
        "yhat_probs = model.predict(X_test, verbose=0)\n",
        "yhat_classes = np.argmax(yhat_probs, axis=1)\n",
        "print(yhat_probs)\n",
        "# predict crisp classes for test set\n",
        "yhat_classes = model.predict(X_test, verbose=2)\n",
        "print(yhat_classes)\n",
        "# reduce to 1d array\n",
        "yhat_probs = yhat_probs[:, 0]"
      ],
      "metadata": {
        "colab": {
          "base_uri": "https://localhost:8080/"
        },
        "id": "9vTLJgSKcZy9",
        "outputId": "8219c1fb-13fd-4731-fd1c-0d931b410f6b"
      },
      "execution_count": 122,
      "outputs": [
        {
          "output_type": "stream",
          "name": "stdout",
          "text": [
            "[[9.9999994e-01 6.7824257e-12]\n",
            " [9.9999994e-01 1.5362477e-10]\n",
            " [9.9999994e-01 9.0528939e-12]\n",
            " ...\n",
            " [1.0000000e+00 1.2621942e-10]\n",
            " [1.0000000e+00 2.8708675e-09]\n",
            " [1.0000000e+00 3.5669523e-11]]\n",
            "20/20 - 0s - 452ms/epoch - 23ms/step\n",
            "[[9.9999994e-01 6.7824257e-12]\n",
            " [9.9999994e-01 1.5362477e-10]\n",
            " [9.9999994e-01 9.0528939e-12]\n",
            " ...\n",
            " [1.0000000e+00 1.2621942e-10]\n",
            " [1.0000000e+00 2.8708675e-09]\n",
            " [1.0000000e+00 3.5669523e-11]]\n"
          ]
        }
      ]
    },
    {
      "cell_type": "code",
      "source": [
        "rounded_labels=np.argmax(Y_test, axis=1)\n",
        "rounded_labels"
      ],
      "metadata": {
        "colab": {
          "base_uri": "https://localhost:8080/"
        },
        "id": "FBLIN35Fc3Ja",
        "outputId": "d0ed9e51-03fb-4761-8a8b-055a4e358759"
      },
      "execution_count": 123,
      "outputs": [
        {
          "output_type": "execute_result",
          "data": {
            "text/plain": [
              "array([0, 0, 0, 0, 0, 0, 0, 0, 0, 0, 0, 0, 0, 0, 1, 0, 0, 0, 0, 0, 0, 0,\n",
              "       0, 0, 1, 0, 0, 0, 0, 0, 0, 0, 0, 0, 0, 0, 0, 0, 0, 0, 1, 0, 0, 0,\n",
              "       0, 0, 0, 1, 0, 0, 0, 1, 0, 0, 0, 0, 0, 0, 0, 0, 1, 0, 1, 0, 0, 0,\n",
              "       0, 0, 0, 0, 1, 0, 1, 1, 1, 1, 0, 0, 0, 0, 0, 0, 0, 0, 1, 0, 0, 0,\n",
              "       0, 0, 0, 0, 0, 0, 0, 0, 0, 0, 0, 0, 0, 0, 0, 0, 0, 0, 0, 0, 0, 0,\n",
              "       0, 0, 0, 0, 0, 1, 0, 0, 0, 1, 0, 0, 0, 0, 0, 0, 0, 0, 0, 1, 0, 0,\n",
              "       0, 0, 0, 0, 0, 0, 0, 0, 0, 0, 0, 0, 0, 0, 1, 0, 0, 0, 0, 0, 0, 0,\n",
              "       0, 0, 0, 0, 0, 0, 1, 0, 0, 0, 0, 0, 1, 1, 0, 0, 0, 0, 0, 0, 0, 0,\n",
              "       0, 0, 0, 0, 0, 0, 0, 0, 0, 0, 0, 0, 0, 0, 0, 0, 0, 0, 0, 0, 0, 0,\n",
              "       0, 0, 0, 0, 0, 0, 0, 0, 0, 0, 1, 0, 0, 1, 0, 0, 0, 0, 0, 0, 0, 0,\n",
              "       0, 1, 0, 0, 0, 0, 0, 0, 0, 0, 0, 0, 0, 0, 1, 0, 1, 0, 1, 0, 1, 0,\n",
              "       0, 1, 0, 0, 0, 0, 0, 0, 0, 1, 0, 0, 0, 0, 0, 0, 0, 1, 1, 0, 0, 0,\n",
              "       0, 0, 0, 0, 0, 0, 0, 0, 1, 0, 0, 0, 0, 0, 0, 0, 1, 0, 0, 0, 0, 0,\n",
              "       0, 1, 0, 0, 0, 1, 1, 0, 0, 0, 0, 1, 0, 1, 0, 0, 0, 0, 0, 0, 0, 1,\n",
              "       0, 0, 0, 0, 0, 0, 1, 0, 0, 0, 0, 0, 0, 0, 0, 0, 1, 0, 1, 0, 0, 0,\n",
              "       0, 0, 0, 0, 0, 0, 0, 0, 1, 0, 0, 0, 0, 0, 1, 0, 0, 0, 0, 0, 0, 0,\n",
              "       0, 0, 0, 0, 0, 1, 0, 0, 0, 0, 0, 0, 0, 0, 0, 0, 0, 0, 0, 0, 0, 0,\n",
              "       0, 0, 0, 0, 0, 0, 0, 0, 0, 0, 0, 0, 0, 0, 0, 0, 0, 0, 0, 1, 0, 1,\n",
              "       0, 0, 0, 0, 0, 0, 0, 0, 0, 1, 0, 0, 1, 0, 0, 0, 0, 0, 0, 0, 0, 0,\n",
              "       0, 0, 0, 0, 0, 0, 0, 0, 1, 0, 0, 1, 0, 0, 0, 0, 0, 0, 1, 0, 0, 0,\n",
              "       1, 0, 0, 0, 1, 0, 0, 0, 0, 0, 0, 1, 0, 0, 1, 0, 0, 0, 0, 0, 0, 1,\n",
              "       0, 0, 0, 0, 0, 0, 0, 0, 1, 0, 0, 0, 0, 0, 0, 0, 0, 0, 0, 1, 0, 0,\n",
              "       0, 0, 0, 0, 0, 1, 0, 0, 0, 0, 1, 0, 0, 1, 0, 0, 0, 0, 0, 0, 0, 0,\n",
              "       0, 0, 0, 0, 0, 0, 0, 0, 0, 0, 0, 0, 1, 1, 0, 0, 0, 0, 0, 0, 0, 0,\n",
              "       0, 0, 1, 0, 0, 0, 0, 0, 0, 0, 0, 1, 0, 1, 0, 1, 1, 1, 0, 0, 0, 0,\n",
              "       1, 1, 1, 0, 0, 0, 0, 0, 0, 0, 0, 1, 0, 1, 0, 0, 0, 0, 0, 0, 0, 0,\n",
              "       0, 0, 0, 0, 1, 0, 0, 0, 0, 0, 0, 0, 0, 1, 0, 0, 0, 0, 0, 0, 0, 0,\n",
              "       0, 0, 0, 0, 0, 0, 0, 0, 0, 0, 0, 0, 0, 0, 0, 0, 1, 1, 0, 0, 0, 0,\n",
              "       0, 1, 0, 0, 0, 0, 0, 0, 0, 0, 0, 0, 0, 0, 0, 0, 0, 0, 0, 1])"
            ]
          },
          "metadata": {},
          "execution_count": 123
        }
      ]
    },
    {
      "cell_type": "code",
      "source": [
        "print(yhat_classes.ndim)\n",
        "yhat_classes.mean(axis=1)"
      ],
      "metadata": {
        "colab": {
          "base_uri": "https://localhost:8080/"
        },
        "id": "m-OZ7l3zj3xa",
        "outputId": "37a5e11f-12ef-4ac5-b481-a63fe9d77265"
      },
      "execution_count": 126,
      "outputs": [
        {
          "output_type": "stream",
          "name": "stdout",
          "text": [
            "2\n"
          ]
        },
        {
          "output_type": "execute_result",
          "data": {
            "text/plain": [
              "array([0.49999997, 0.49999997, 0.49999997, 0.49999997, 0.49999997,\n",
              "       0.49999997, 0.49999997, 0.49999997, 0.49999997, 0.49999997,\n",
              "       0.49999997, 0.49999997, 0.49999997, 0.49999997, 0.49999997,\n",
              "       0.49999997, 0.49999997, 0.49999997, 0.49999997, 0.49999997,\n",
              "       0.49999997, 0.49999997, 0.49999997, 0.49999997, 0.49999997,\n",
              "       0.49999997, 0.49999997, 0.49999997, 0.49999997, 0.49999997,\n",
              "       0.49999997, 0.49999997, 0.49999997, 0.49999997, 0.49999997,\n",
              "       0.49999997, 0.49999997, 0.49999997, 0.49999997, 0.49999997,\n",
              "       0.5       , 0.49999997, 0.49999997, 0.49999997, 0.49999997,\n",
              "       0.49999997, 0.49999997, 0.5       , 0.49999997, 0.49999997,\n",
              "       0.49999997, 0.49999997, 0.49999994, 0.49999997, 0.49999997,\n",
              "       0.49999997, 0.49999997, 0.49999997, 0.49999997, 0.49999997,\n",
              "       0.49999997, 0.49999997, 0.49999997, 0.49999994, 0.49999997,\n",
              "       0.49999997, 0.49999997, 0.49999997, 0.49999997, 0.49999997,\n",
              "       0.49999997, 0.49999997, 0.49999997, 0.49999997, 0.5       ,\n",
              "       0.49999997, 0.49999997, 0.49999997, 0.49999997, 0.49999997,\n",
              "       0.49999997, 0.49999997, 0.49999997, 0.49999997, 0.49999994,\n",
              "       0.49999997, 0.49999997, 0.49999997, 0.49999994, 0.49999997,\n",
              "       0.49999997, 0.49999997, 0.49999997, 0.49999997, 0.49999997,\n",
              "       0.49999997, 0.49999997, 0.5       , 0.49999997, 0.49999997,\n",
              "       0.49999997, 0.49999997, 0.49999997, 0.49999997, 0.49999997,\n",
              "       0.49999997, 0.49999997, 0.49999997, 0.49999997, 0.49999997,\n",
              "       0.49999997, 0.49999997, 0.49999997, 0.49999997, 0.49999997,\n",
              "       0.49999997, 0.49999997, 0.49999997, 0.49999997, 0.49999997,\n",
              "       0.49999997, 0.49999997, 0.49999997, 0.49999997, 0.49999997,\n",
              "       0.49999997, 0.49999997, 0.49999997, 0.49999997, 0.49999997,\n",
              "       0.49999997, 0.49999997, 0.49999997, 0.49999997, 0.49999997,\n",
              "       0.49999997, 0.49999997, 0.49999997, 0.49999997, 0.49999997,\n",
              "       0.49999997, 0.49999997, 0.49999997, 0.49999997, 0.49999997,\n",
              "       0.49999997, 0.49999997, 0.5       , 0.49999997, 0.49999997,\n",
              "       0.49999997, 0.49999997, 0.49999997, 0.5       , 0.49999997,\n",
              "       0.49999997, 0.49999997, 0.49999997, 0.49999997, 0.49999997,\n",
              "       0.49999997, 0.49999997, 0.49999997, 0.49999997, 0.49999997,\n",
              "       0.49999997, 0.49999997, 0.5       , 0.49999997, 0.49999997,\n",
              "       0.49999997, 0.49999997, 0.49999997, 0.49999997, 0.49999997,\n",
              "       0.49999997, 0.49999997, 0.49999997, 0.49999997, 0.50000006,\n",
              "       0.49999997, 0.49999997, 0.49999997, 0.49999997, 0.49999997,\n",
              "       0.49999997, 0.49999997, 0.49999997, 0.49999997, 0.49999997,\n",
              "       0.49999997, 0.49999997, 0.49999997, 0.49999997, 0.49999997,\n",
              "       0.49999997, 0.49999997, 0.49999997, 0.49999997, 0.49999997,\n",
              "       0.49999997, 0.49999997, 0.49999997, 0.49999997, 0.49999997,\n",
              "       0.49999997, 0.49999997, 0.49999997, 0.49999997, 0.49999997,\n",
              "       0.49999997, 0.49999997, 0.49999997, 0.49999997, 0.49999994,\n",
              "       0.49999997, 0.49999997, 0.49999997, 0.49999997, 0.49999997,\n",
              "       0.49999997, 0.49999997, 0.49999997, 0.49999997, 0.49999997,\n",
              "       0.49999997, 0.49999997, 0.49999997, 0.49999997, 0.49999997,\n",
              "       0.49999997, 0.49999997, 0.49999997, 0.49999997, 0.49999997,\n",
              "       0.49999997, 0.49999997, 0.49999997, 0.49999997, 0.49999997,\n",
              "       0.49999997, 0.49999997, 0.49999997, 0.49999997, 0.49999997,\n",
              "       0.49999997, 0.49999997, 0.49999997, 0.49999997, 0.49999997,\n",
              "       0.49999997, 0.49999997, 0.49999997, 0.49999997, 0.49999997,\n",
              "       0.49999997, 0.49999997, 0.49999997, 0.49999997, 0.49999997,\n",
              "       0.5       , 0.49999997, 0.49999997, 0.49999997, 0.49999997,\n",
              "       0.49999997, 0.49999997, 0.49999997, 0.49999997, 0.49999997,\n",
              "       0.49999997, 0.49999997, 0.49999997, 0.49999997, 0.49999997,\n",
              "       0.49999997, 0.49999997, 0.49999997, 0.49999997, 0.49999997,\n",
              "       0.49999997, 0.49999997, 0.49999997, 0.49999997, 0.49999997,\n",
              "       0.49999997, 0.49999997, 0.49999997, 0.49999997, 0.49999997,\n",
              "       0.49999997, 0.49999997, 0.49999997, 0.49999997, 0.49999997,\n",
              "       0.49999997, 0.49999997, 0.49999997, 0.49999997, 0.49999997,\n",
              "       0.49999997, 0.49999997, 0.49999997, 0.49999997, 0.49999997,\n",
              "       0.49999997, 0.49999997, 0.49999997, 0.49999997, 0.49999997,\n",
              "       0.49999997, 0.49999997, 0.49999997, 0.49999997, 0.49999997,\n",
              "       0.49999997, 0.49999997, 0.49999997, 0.5       , 0.49999997,\n",
              "       0.49999997, 0.49999997, 0.49999997, 0.49999997, 0.5       ,\n",
              "       0.49999997, 0.49999997, 0.49999997, 0.49999997, 0.49999997,\n",
              "       0.49999997, 0.49999997, 0.49999997, 0.49999997, 0.49999997,\n",
              "       0.49999997, 0.49999997, 0.5       , 0.49999997, 0.49999997,\n",
              "       0.49999997, 0.49999994, 0.49999997, 0.49999997, 0.49999994,\n",
              "       0.49999997, 0.49999997, 0.49999997, 0.49999997, 0.49999997,\n",
              "       0.49999997, 0.49999997, 0.49999997, 0.49999994, 0.49999997,\n",
              "       0.49999997, 0.49999997, 0.49999997, 0.49999997, 0.49999997,\n",
              "       0.49999997, 0.49999997, 0.49999997, 0.49999997, 0.49999997,\n",
              "       0.49999997, 0.49999997, 0.49999997, 0.5       , 0.49999997,\n",
              "       0.49999997, 0.49999997, 0.49999997, 0.49999997, 0.49999997,\n",
              "       0.49999997, 0.49999997, 0.49999997, 0.49999997, 0.49999997,\n",
              "       0.49999997, 0.49999997, 0.49999997, 0.49999997, 0.49999997,\n",
              "       0.49999997, 0.49999997, 0.49999997, 0.49999997, 0.49999997,\n",
              "       0.49999997, 0.49999997, 0.49999997, 0.5       , 0.49999997,\n",
              "       0.49999997, 0.49999997, 0.49999997, 0.49999997, 0.49999997,\n",
              "       0.49999997, 0.49999997, 0.49999997, 0.49999997, 0.49999997,\n",
              "       0.49999997, 0.49999997, 0.49999997, 0.5       , 0.49999997,\n",
              "       0.49999997, 0.49999997, 0.49999997, 0.49999997, 0.49999997,\n",
              "       0.49999997, 0.49999997, 0.49999997, 0.49999997, 0.49999997,\n",
              "       0.49999997, 0.49999997, 0.49999994, 0.49999994, 0.49999997,\n",
              "       0.49999997, 0.49999997, 0.49999997, 0.49999997, 0.49999997,\n",
              "       0.49999997, 0.49999997, 0.49999997, 0.49999997, 0.49999997,\n",
              "       0.49999997, 0.49999997, 0.49999997, 0.49999997, 0.49999997,\n",
              "       0.49999997, 0.49999997, 0.49999997, 0.49999997, 0.49999997,\n",
              "       0.49999997, 0.49999997, 0.49999997, 0.49999997, 0.49999997,\n",
              "       0.49999997, 0.49999997, 0.49999997, 0.49999997, 0.49999997,\n",
              "       0.49999997, 0.49999997, 0.49999997, 0.49999997, 0.49999997,\n",
              "       0.49999997, 0.49999997, 0.49999997, 0.49999997, 0.49999997,\n",
              "       0.49999997, 0.49999997, 0.5       , 0.5       , 0.49999997,\n",
              "       0.49999997, 0.49999997, 0.49999997, 0.49999997, 0.49999997,\n",
              "       0.49999997, 0.49999997, 0.49999997, 0.49999997, 0.49999997,\n",
              "       0.49999997, 0.49999997, 0.49999997, 0.49999997, 0.49999997,\n",
              "       0.49999997, 0.49999997, 0.49999997, 0.49999997, 0.49999997,\n",
              "       0.49999997, 0.49999997, 0.49999997, 0.49999997, 0.49999997,\n",
              "       0.49999997, 0.49999997, 0.49999997, 0.49999997, 0.49999997,\n",
              "       0.49999997, 0.49999997, 0.49999997, 0.49999997, 0.49999997,\n",
              "       0.49999997, 0.49999997, 0.49999997, 0.49999997, 0.49999997,\n",
              "       0.49999997, 0.49999997, 0.49999997, 0.49999997, 0.49999997,\n",
              "       0.49999997, 0.49999997, 0.49999997, 0.49999997, 0.49999997,\n",
              "       0.49999997, 0.49999997, 0.49999997, 0.49999997, 0.49999997,\n",
              "       0.49999997, 0.49999997, 0.49999997, 0.49999997, 0.49999997,\n",
              "       0.49999997, 0.49999997, 0.49999997, 0.49999997, 0.49999997,\n",
              "       0.49999994, 0.49999997, 0.49999997, 0.49999997, 0.49999997,\n",
              "       0.49999997, 0.5       , 0.49999997, 0.49999997, 0.49999997,\n",
              "       0.49999997, 0.49999997, 0.49999997, 0.49999997, 0.49999997,\n",
              "       0.5       , 0.49999997, 0.49999997, 0.49999997, 0.49999997,\n",
              "       0.49999997, 0.49999997, 0.49999997, 0.49999997, 0.49999997,\n",
              "       0.49999997, 0.5       , 0.49999997, 0.49999997, 0.49999997,\n",
              "       0.49999997, 0.49999997, 0.49999997, 0.49999997, 0.49999997,\n",
              "       0.49999997, 0.49999997, 0.49999997, 0.49999997, 0.49999997,\n",
              "       0.49999997, 0.49999997, 0.49999997, 0.49999997, 0.49999997,\n",
              "       0.49999997, 0.49999997, 0.49999997, 0.49999997, 0.49999997,\n",
              "       0.49999997, 0.49999997, 0.49999997, 0.49999997, 0.49999997,\n",
              "       0.49999997, 0.49999997, 0.49999997, 0.49999997, 0.49999997,\n",
              "       0.49999997, 0.49999997, 0.49999997, 0.49999997, 0.49999997,\n",
              "       0.49999997, 0.49999997, 0.49999997, 0.49999997, 0.49999997,\n",
              "       0.49999997, 0.49999997, 0.49999997, 0.49999997, 0.49999997,\n",
              "       0.49999997, 0.49999997, 0.49999997, 0.49999997, 0.49999997,\n",
              "       0.49999997, 0.49999997, 0.49999997, 0.49999997, 0.49999997,\n",
              "       0.49999997, 0.49999997, 0.49999997, 0.49999997, 0.49999997,\n",
              "       0.49999997, 0.49999997, 0.49999997, 0.49999997, 0.49999997,\n",
              "       0.49999997, 0.49999997, 0.5       , 0.5       , 0.5       ,\n",
              "       0.5       ], dtype=float32)"
            ]
          },
          "metadata": {},
          "execution_count": 126
        }
      ]
    },
    {
      "cell_type": "code",
      "source": [
        "yhat_classes=np.argmax(Y_test,axis = 1)\n",
        "yhat_classes\n",
        "print(rounded_labels.shape)\n",
        "print(yhat_classes.shape)\n"
      ],
      "metadata": {
        "colab": {
          "base_uri": "https://localhost:8080/"
        },
        "id": "wQrQgIkEgnDK",
        "outputId": "e5162c05-f28a-490a-f7ff-dd1c0175c312"
      },
      "execution_count": 131,
      "outputs": [
        {
          "output_type": "stream",
          "name": "stdout",
          "text": [
            "(636,)\n",
            "(636,)\n"
          ]
        }
      ]
    },
    {
      "cell_type": "code",
      "source": [
        "from sklearn.metrics import confusion_matrix\n",
        "cm = confusion_matrix(rounded_labels, yhat_classes)\n",
        "cm"
      ],
      "metadata": {
        "colab": {
          "base_uri": "https://localhost:8080/"
        },
        "id": "Gb8OEXwBdJdP",
        "outputId": "41b79f34-e832-42d3-c673-3956861c6e84"
      },
      "execution_count": 132,
      "outputs": [
        {
          "output_type": "execute_result",
          "data": {
            "text/plain": [
              "array([[555,   0],\n",
              "       [  0,  81]])"
            ]
          },
          "metadata": {},
          "execution_count": 132
        }
      ]
    },
    {
      "cell_type": "code",
      "source": [
        "import seaborn as sns\n",
        "\n",
        "lstm_val = confusion_matrix(rounded_labels, yhat_classes)\n",
        "f, ax = plt.subplots(figsize=(5,5))\n",
        "sns.heatmap(lstm_val, annot=True, linewidth=0.7, linecolor='pink', fmt='g', ax=ax, cmap=\"summer\")\n",
        "plt.title('LSTM Classification Confusion Matrix')\n",
        "plt.xlabel('Y predict')\n",
        "plt.ylabel('Y test')\n",
        "plt.show()"
      ],
      "metadata": {
        "colab": {
          "base_uri": "https://localhost:8080/",
          "height": 350
        },
        "id": "X52U5CaLk9mO",
        "outputId": "7d4daf8e-e2a8-4181-ef25-5a8b71054175"
      },
      "execution_count": 135,
      "outputs": [
        {
          "output_type": "display_data",
          "data": {
            "text/plain": [
              "<Figure size 360x360 with 2 Axes>"
            ],
            "image/png": "[encoded data removed]"
          },
          "metadata": {
            "needs_background": "light"
          }
        }
      ]
    },
    {
      "cell_type": "code",
      "source": [
        "validation_size = 200\n",
        "\n",
        "X_validate = X_test[-validation_size:]\n",
        "Y_validate = Y_test[-validation_size:]\n",
        "X_test = X_test[:-validation_size]\n",
        "Y_test = Y_test[:-validation_size]\n",
        "score,acc = model.evaluate(X_test, Y_test, verbose = 1, batch_size = batch_size)\n",
        "\n",
        "print(\"score: %.2f\" % (score))\n",
        "print(\"acc: %.2f\" % (acc))"
      ],
      "metadata": {
        "colab": {
          "base_uri": "https://localhost:8080/"
        },
        "id": "zwj746JvdN1a",
        "outputId": "45624a61-6a86-4e9c-c8e0-7c1618e9214e"
      },
      "execution_count": 99,
      "outputs": [
        {
          "output_type": "stream",
          "name": "stdout",
          "text": [
            "20/20 [==============================] - 0s 10ms/step - loss: 0.0908 - acc: 0.9858\n",
            "score: 0.09\n",
            "acc: 0.99\n"
          ]
        }
      ]
    },
    {
      "cell_type": "code",
      "source": [
        "model.save('Mymodel.h5')"
      ],
      "metadata": {
        "id": "bQLfk0xwhZU-"
      },
      "execution_count": 100,
      "outputs": []
    },
    {
      "cell_type": "code",
      "source": [
        "message = ['Congratulations! you have won a $1,000 Walmart gift card. Go to http://bit.ly/123456 to claim now.']\n",
        "seq = tokenizer.texts_to_sequences(message)\n",
        "\n",
        "padded = pad_sequences(seq, maxlen=X.shape[1], dtype='int32', value=0)\n",
        "\n",
        "pred = model.predict(padded)\n",
        "\n",
        "labels = ['ham','spam']\n",
        "print(pred, labels[np.argmax(pred)])"
      ],
      "metadata": {
        "colab": {
          "base_uri": "https://localhost:8080/"
        },
        "id": "ozJcPaOsheEy",
        "outputId": "b190ef55-470a-48c4-8a74-6005be1e71ab"
      },
      "execution_count": 101,
      "outputs": [
        {
          "output_type": "stream",
          "name": "stdout",
          "text": [
            "1/1 [==============================] - 0s 36ms/step\n",
            "[[9.8791624e-08 9.9999988e-01]] spam\n"
          ]
        }
      ]
    },
    {
      "cell_type": "code",
      "source": [],
      "metadata": {
        "id": "o1MWx9Kuhi4_"
      },
      "execution_count": null,
      "outputs": []
    }
  ]
}