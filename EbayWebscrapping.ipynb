{
  "nbformat": 4,
  "nbformat_minor": 0,
  "metadata": {
    "colab": {
      "provenance": [],
      "authorship_tag": "ABX9TyNXufhe7QF7cyLARseYk8IP",
      "include_colab_link": true
    },
    "kernelspec": {
      "name": "python3",
      "display_name": "Python 3"
    },
    "language_info": {
      "name": "python"
    }
  },
  "cells": [
    {
      "cell_type": "markdown",
      "metadata": {
        "id": "view-in-github",
        "colab_type": "text"
      },
      "source": [
        "<a href=\"https://colab.research.google.com/github/LagisettyRavikiran/LagisettyRavikiran/blob/main/EbayWebscrapping.ipynb\" target=\"_parent\"><img src=\"https://colab.research.google.com/assets/colab-badge.svg\" alt=\"Open In Colab\"/></a>"
      ]
    },
    {
      "cell_type": "code",
      "execution_count": 9,
      "metadata": {
        "id": "ICFM82ioMptq",
        "colab": {
          "base_uri": "https://localhost:8080/"
        },
        "outputId": "43219da5-32ab-4576-ff85-22e7d82f11d8"
      },
      "outputs": [
        {
          "output_type": "stream",
          "name": "stdout",
          "text": [
            "<Response [200]>\n"
          ]
        }
      ],
      "source": [
        "# Scrap data from Ebay for Wireless Headphones\n",
        "\n",
        "from bs4 import BeautifulSoup\n",
        "import requests\n",
        "import csv\n",
        "import pandas as pd\n",
        "\n",
        "url = \"https://www.ebay.com/sch/i.html?_nkw=headphones+bluetooth&_sop=12\"\n",
        "p = requests.get(url)\n",
        "soup = BeautifulSoup(p.content,'html.parser')\n",
        "print(p)\n",
        "content = soup.find_all('div', class_=\"s-item__wrapper clearfix\")\n",
        "fheader = [\"productname\",\"price\",\"sold\",\"shipping\"]\n",
        "\n",
        "itemfull = []\n",
        "\n",
        "for item in content:\n",
        "  l1 = []\n",
        "  productname = item.find('div', class_=\"s-item__title\")\n",
        "  price = item.find('span', class_=\"s-item__price\")\n",
        "  sold = item.find('span', class_=\"s-item__dynamic s-item__quantitySold\")\n",
        "  shipping = item.find('span', class_=\"s-item__shipping s-item__logisticsCost\")\n",
        "  l1.append(productname.text)\n",
        "  if(price is not None):\n",
        "    l1.append(price.text)\n",
        "  else:\n",
        "    l1.append(\"Price is NA\")\n",
        "  if(sold is not None):\n",
        "    l1.append(sold.text)\n",
        "  else:\n",
        "    l1.append(\"No Sold Price\")\n",
        "  if(shipping is not None):\n",
        "    l1.append(shipping.text)\n",
        "  else:\n",
        "    l1.append(\"No Orginal price\")\n",
        "  itemfull.append(l1)\n",
        "\n",
        "pd.DataFrame(itemfull).to_csv(\"ebay.csv\",header=fheader)\n"
      ]
    }
  ]
}